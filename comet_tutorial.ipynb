{
 "cells": [
  {
   "cell_type": "markdown",
   "metadata": {},
   "source": [
    "#  Comet example\n",
    "\n",
    "This is a jupyter notebook which trains a neural network and uploads the results to the\n",
    "https://www.comet.ml  web site. This records the results, hyperparameters, and code  for your\n",
    "runs.\n",
    "\n",
    "You many need to install the comet_ml module\n",
    "pip3 install comet_ml\n",
    "\n",
    "You will need to register with the above web site."
   ]
  },
  {
   "cell_type": "code",
   "execution_count": null,
   "metadata": {},
   "outputs": [],
   "source": [
    "from comet_ml import Experiment\n",
    "\n",
    "\n",
    "# Add the following code anywhere in your machine learning file\n",
    "# You need to use the api_key from the above website above.\n",
    "\n",
    "experiment = Experiment(api_key=\"Replace-Me\",\n",
    "                        project_name=\"general\", workspace=\"cmcneile\", auto_param_logging=False)\n",
    "\n",
    "#experiment.set_model_graph()\n",
    "\n",
    "import keras\n",
    "from keras.datasets import mnist\n",
    "from keras.models import Sequential\n",
    "from keras.layers import Dense, Dropout\n",
    "from keras.callbacks import EarlyStopping\n"
   ]
  },
  {
   "cell_type": "code",
   "execution_count": null,
   "metadata": {},
   "outputs": [],
   "source": [
    "batch_size = 128\n",
    "num_classes = 10\n",
    "epochs = 20\n",
    "num_nodes = 64\n",
    "optimizer = 'adam'\n",
    "activation = 'relu'"
   ]
  },
  {
   "cell_type": "code",
   "execution_count": null,
   "metadata": {},
   "outputs": [],
   "source": [
    "# the data, shuffled and split between train and test sets\n",
    "(x_train, y_train), (x_test, y_test) = mnist.load_data()\n",
    "\n",
    "x_train = x_train.reshape(60000, 784)\n",
    "x_test = x_test.reshape(10000, 784)\n",
    "x_train = x_train.astype('float32')\n",
    "x_test = x_test.astype('float32')\n",
    "x_train /= 255\n",
    "x_test /= 255\n",
    "print(x_train.shape[0], 'train samples')\n",
    "print(x_test.shape[0], 'test samples')\n"
   ]
  },
  {
   "cell_type": "code",
   "execution_count": null,
   "metadata": {},
   "outputs": [],
   "source": [
    "# convert class vectors to binary class matrices\n",
    "y_train = keras.utils.to_categorical(y_train, num_classes)\n",
    "y_test = keras.utils.to_categorical(y_test, num_classes)"
   ]
  },
  {
   "cell_type": "markdown",
   "metadata": {},
   "source": [
    "#these will all get logged \n",
    "params={'batch_size':batch_size,\n",
    "        'epochs':epochs,\n",
    "        'layer1_type':'Dense',\n",
    "        'layer1_num_nodes':num_nodes,\n",
    "        'layer1_activation':activation,\n",
    "        'optimizer':optimizer\n",
    "}\n",
    "model = Sequential()\n",
    "model.add(Dense(num_nodes, activation='relu', input_shape=(784,)))\n",
    "#model.add(Dense(256, activation='relu'))\n",
    "model.add(Dense(num_classes, activation='softmax'))\n",
    "\n",
    "#print model.summary() to preserve automatically in `Output` tab\n",
    "print(model.summary())\n"
   ]
  },
  {
   "cell_type": "markdown",
   "metadata": {},
   "source": [
    "##  Record the hyper-parameters for the training"
   ]
  },
  {
   "cell_type": "code",
   "execution_count": null,
   "metadata": {},
   "outputs": [],
   "source": [
    "#these will all get logged \n",
    "params={'batch_size':batch_size,\n",
    "        'epochs':epochs,\n",
    "        'layer1_type':'Dense',\n",
    "        'layer1_num_nodes':num_nodes,\n",
    "        'layer1_activation':activation,\n",
    "        'optimizer':optimizer\n",
    "}\n",
    "model = Sequential()\n",
    "model.add(Dense(num_nodes, activation='relu', input_shape=(784,)))\n",
    "#model.add(Dense(256, activation='relu'))\n",
    "model.add(Dense(num_classes, activation='softmax'))\n",
    "\n",
    "#print model.summary() to preserve automatically in `Output` tab\n",
    "print(model.summary())\n"
   ]
  },
  {
   "cell_type": "code",
   "execution_count": null,
   "metadata": {},
   "outputs": [],
   "source": [
    "model.compile(loss='categorical_crossentropy',\n",
    "              optimizer=optimizer,\n",
    "              metrics=['accuracy'])\n",
    "\n",
    "#will log metrics with the prefix 'train_'\n",
    "with experiment.train():\n",
    "    history = model.fit(x_train, y_train,\n",
    "                        batch_size=batch_size,\n",
    "                        epochs=epochs,\n",
    "                        verbose=1,\n",
    "                        validation_data=(x_test, y_test),\n",
    "                        callbacks=[EarlyStopping(monitor='val_loss', min_delta=1e-4,patience=3, verbose=1, mode='auto')])\n"
   ]
  },
  {
   "cell_type": "code",
   "execution_count": null,
   "metadata": {},
   "outputs": [],
   "source": [
    "\n",
    "#will log metrics with the prefix 'test_'\n",
    "#with experiment.test():\n",
    "loss, accuracy = model.evaluate(x_test, y_test)\n",
    "metrics = {\n",
    "        'loss':loss,\n",
    "        'accuracy':accuracy\n",
    "}\n",
    "experiment.log_metrics(metrics)\n",
    "\n",
    "experiment.log_parameters(params)\n",
    "experiment.log_dataset_hash(x_train) #creates and logs a hash of your data\n",
    "\n",
    "#experiment.set_model_graph()\n",
    "\n",
    "\n",
    "\n"
   ]
  },
  {
   "cell_type": "code",
   "execution_count": null,
   "metadata": {},
   "outputs": [],
   "source": []
  }
 ],
 "metadata": {
  "kernelspec": {
   "display_name": "Python 3",
   "language": "python",
   "name": "python3"
  },
  "language_info": {
   "codemirror_mode": {
    "name": "ipython",
    "version": 3
   },
   "file_extension": ".py",
   "mimetype": "text/x-python",
   "name": "python",
   "nbconvert_exporter": "python",
   "pygments_lexer": "ipython3",
   "version": "3.6.7"
  }
 },
 "nbformat": 4,
 "nbformat_minor": 2
}
