{
 "cells": [
  {
   "cell_type": "markdown",
   "metadata": {},
   "source": [
    "#  Comet example\n",
    "\n"
   ]
  },
  {
   "cell_type": "code",
   "execution_count": 2,
   "metadata": {},
   "outputs": [
    {
     "name": "stderr",
     "output_type": "stream",
     "text": [
      "COMET INFO: Experiment is live on comet.ml https://www.comet.ml/cmcneile/general/881956e924b947a4a46f893b5c428f41\n",
      "\n",
      "Using TensorFlow backend.\n"
     ]
    }
   ],
   "source": [
    "from comet_ml import Experiment\n",
    "\n",
    "#create an experiment with your api key\n",
    "#experiment = Experiment(project_name='mnist',\n",
    "#                        auto_param_logging=False)\n",
    "\n",
    "# Add the following code anywhere in your machine learning file\n",
    "experiment = Experiment(api_key=\"aqneHSrxoUEomVNW3Q5ujNPJD\",\n",
    "                        project_name=\"general\", workspace=\"cmcneile\", auto_param_logging=False)\n",
    "\n",
    "#experiment.set_model_graph()\n",
    "\n",
    "import keras\n",
    "from keras.datasets import mnist\n",
    "from keras.models import Sequential\n",
    "from keras.layers import Dense, Dropout\n",
    "from keras.callbacks import EarlyStopping\n"
   ]
  },
  {
   "cell_type": "code",
   "execution_count": 3,
   "metadata": {},
   "outputs": [],
   "source": [
    "batch_size = 128\n",
    "num_classes = 10\n",
    "epochs = 20\n",
    "num_nodes = 64\n",
    "optimizer = 'adam'\n",
    "activation = 'relu'"
   ]
  },
  {
   "cell_type": "code",
   "execution_count": 4,
   "metadata": {},
   "outputs": [
    {
     "name": "stdout",
     "output_type": "stream",
     "text": [
      "60000 train samples\n",
      "10000 test samples\n"
     ]
    }
   ],
   "source": [
    "# the data, shuffled and split between train and test sets\n",
    "(x_train, y_train), (x_test, y_test) = mnist.load_data()\n",
    "\n",
    "x_train = x_train.reshape(60000, 784)\n",
    "x_test = x_test.reshape(10000, 784)\n",
    "x_train = x_train.astype('float32')\n",
    "x_test = x_test.astype('float32')\n",
    "x_train /= 255\n",
    "x_test /= 255\n",
    "print(x_train.shape[0], 'train samples')\n",
    "print(x_test.shape[0], 'test samples')\n"
   ]
  },
  {
   "cell_type": "code",
   "execution_count": 5,
   "metadata": {},
   "outputs": [],
   "source": [
    "# convert class vectors to binary class matrices\n",
    "y_train = keras.utils.to_categorical(y_train, num_classes)\n",
    "y_test = keras.utils.to_categorical(y_test, num_classes)"
   ]
  },
  {
   "cell_type": "markdown",
   "metadata": {},
   "source": [
    "#these will all get logged \n",
    "params={'batch_size':batch_size,\n",
    "        'epochs':epochs,\n",
    "        'layer1_type':'Dense',\n",
    "        'layer1_num_nodes':num_nodes,\n",
    "        'layer1_activation':activation,\n",
    "        'optimizer':optimizer\n",
    "}\n",
    "model = Sequential()\n",
    "model.add(Dense(num_nodes, activation='relu', input_shape=(784,)))\n",
    "#model.add(Dense(256, activation='relu'))\n",
    "model.add(Dense(num_classes, activation='softmax'))\n",
    "\n",
    "#print model.summary() to preserve automatically in `Output` tab\n",
    "print(model.summary())\n"
   ]
  },
  {
   "cell_type": "markdown",
   "metadata": {},
   "source": [
    "##  fff"
   ]
  },
  {
   "cell_type": "code",
   "execution_count": 8,
   "metadata": {},
   "outputs": [
    {
     "name": "stdout",
     "output_type": "stream",
     "text": [
      "_________________________________________________________________\n",
      "Layer (type)                 Output Shape              Param #   \n",
      "=================================================================\n",
      "dense_3 (Dense)              (None, 64)                50240     \n",
      "_________________________________________________________________\n",
      "dense_4 (Dense)              (None, 10)                650       \n",
      "=================================================================\n",
      "Total params: 50,890\n",
      "Trainable params: 50,890\n",
      "Non-trainable params: 0\n",
      "_________________________________________________________________\n",
      "None\n"
     ]
    }
   ],
   "source": [
    "#these will all get logged \n",
    "params={'batch_size':batch_size,\n",
    "        'epochs':epochs,\n",
    "        'layer1_type':'Dense',\n",
    "        'layer1_num_nodes':num_nodes,\n",
    "        'layer1_activation':activation,\n",
    "        'optimizer':optimizer\n",
    "}\n",
    "model = Sequential()\n",
    "model.add(Dense(num_nodes, activation='relu', input_shape=(784,)))\n",
    "#model.add(Dense(256, activation='relu'))\n",
    "model.add(Dense(num_classes, activation='softmax'))\n",
    "\n",
    "#print model.summary() to preserve automatically in `Output` tab\n",
    "print(model.summary())\n"
   ]
  },
  {
   "cell_type": "code",
   "execution_count": 9,
   "metadata": {},
   "outputs": [
    {
     "name": "stdout",
     "output_type": "stream",
     "text": [
      "Train on 60000 samples, validate on 10000 samples\n",
      "Epoch 1/20\n",
      "60000/60000 [==============================] - 2s 26us/step - loss: 0.4226 - acc: 0.8833 - val_loss: 0.2296 - val_acc: 0.9348\n",
      "Epoch 2/20\n",
      "60000/60000 [==============================] - 1s 20us/step - loss: 0.2121 - acc: 0.9393 - val_loss: 0.1809 - val_acc: 0.9464\n",
      "Epoch 3/20\n",
      "60000/60000 [==============================] - 1s 20us/step - loss: 0.1650 - acc: 0.9532 - val_loss: 0.1491 - val_acc: 0.9577\n",
      "Epoch 4/20\n",
      "60000/60000 [==============================] - 1s 20us/step - loss: 0.1343 - acc: 0.9616 - val_loss: 0.1277 - val_acc: 0.9629\n",
      "Epoch 5/20\n",
      "60000/60000 [==============================] - 1s 21us/step - loss: 0.1130 - acc: 0.9677 - val_loss: 0.1171 - val_acc: 0.9652\n",
      "Epoch 6/20\n",
      "60000/60000 [==============================] - 1s 21us/step - loss: 0.0963 - acc: 0.9723 - val_loss: 0.1075 - val_acc: 0.9668\n",
      "Epoch 7/20\n",
      "60000/60000 [==============================] - 1s 20us/step - loss: 0.0834 - acc: 0.9762 - val_loss: 0.1002 - val_acc: 0.9699\n",
      "Epoch 8/20\n",
      "60000/60000 [==============================] - 1s 20us/step - loss: 0.0745 - acc: 0.9782 - val_loss: 0.0936 - val_acc: 0.9708\n",
      "Epoch 9/20\n",
      "60000/60000 [==============================] - 1s 20us/step - loss: 0.0657 - acc: 0.9812 - val_loss: 0.0935 - val_acc: 0.9714\n",
      "Epoch 10/20\n",
      "60000/60000 [==============================] - 1s 21us/step - loss: 0.0586 - acc: 0.9833 - val_loss: 0.0879 - val_acc: 0.9730\n",
      "Epoch 11/20\n",
      "60000/60000 [==============================] - 1s 19us/step - loss: 0.0524 - acc: 0.9850 - val_loss: 0.0882 - val_acc: 0.9727\n",
      "Epoch 12/20\n",
      "60000/60000 [==============================] - 1s 21us/step - loss: 0.0481 - acc: 0.9860 - val_loss: 0.0820 - val_acc: 0.9755\n",
      "Epoch 13/20\n",
      "60000/60000 [==============================] - 1s 23us/step - loss: 0.0429 - acc: 0.9878 - val_loss: 0.0822 - val_acc: 0.9753\n",
      "Epoch 14/20\n",
      "60000/60000 [==============================] - 1s 21us/step - loss: 0.0384 - acc: 0.9891 - val_loss: 0.0789 - val_acc: 0.9768\n",
      "Epoch 15/20\n",
      "60000/60000 [==============================] - 1s 19us/step - loss: 0.0351 - acc: 0.9901 - val_loss: 0.0893 - val_acc: 0.9719\n",
      "Epoch 16/20\n",
      "60000/60000 [==============================] - 1s 19us/step - loss: 0.0319 - acc: 0.9914 - val_loss: 0.0794 - val_acc: 0.9758\n",
      "Epoch 17/20\n",
      "60000/60000 [==============================] - 2s 27us/step - loss: 0.0284 - acc: 0.9925 - val_loss: 0.0802 - val_acc: 0.9764\n",
      "Epoch 00017: early stopping\n"
     ]
    }
   ],
   "source": [
    "model.compile(loss='categorical_crossentropy',\n",
    "              optimizer=optimizer,\n",
    "              metrics=['accuracy'])\n",
    "\n",
    "#will log metrics with the prefix 'train_'\n",
    "with experiment.train():\n",
    "    history = model.fit(x_train, y_train,\n",
    "                        batch_size=batch_size,\n",
    "                        epochs=epochs,\n",
    "                        verbose=1,\n",
    "                        validation_data=(x_test, y_test),\n",
    "                        callbacks=[EarlyStopping(monitor='val_loss', min_delta=1e-4,patience=3, verbose=1, mode='auto')])\n"
   ]
  },
  {
   "cell_type": "code",
   "execution_count": 10,
   "metadata": {},
   "outputs": [
    {
     "name": "stdout",
     "output_type": "stream",
     "text": [
      "10000/10000 [==============================] - 0s 17us/step\n"
     ]
    }
   ],
   "source": [
    "\n",
    "#will log metrics with the prefix 'test_'\n",
    "#with experiment.test():\n",
    "loss, accuracy = model.evaluate(x_test, y_test)\n",
    "metrics = {\n",
    "        'loss':loss,\n",
    "        'accuracy':accuracy\n",
    "}\n",
    "experiment.log_metrics(metrics)\n",
    "\n",
    "experiment.log_parameters(params)\n",
    "experiment.log_dataset_hash(x_train) #creates and logs a hash of your data\n",
    "\n",
    "#experiment.set_model_graph()\n",
    "\n",
    "\n",
    "\n"
   ]
  },
  {
   "cell_type": "code",
   "execution_count": null,
   "metadata": {},
   "outputs": [],
   "source": []
  }
 ],
 "metadata": {
  "kernelspec": {
   "display_name": "Python 3",
   "language": "python",
   "name": "python3"
  },
  "language_info": {
   "codemirror_mode": {
    "name": "ipython",
    "version": 3
   },
   "file_extension": ".py",
   "mimetype": "text/x-python",
   "name": "python",
   "nbconvert_exporter": "python",
   "pygments_lexer": "ipython3",
   "version": "3.6.7"
  }
 },
 "nbformat": 4,
 "nbformat_minor": 2
}
