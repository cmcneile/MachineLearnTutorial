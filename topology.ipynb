{
 "cells": [
  {
   "cell_type": "markdown",
   "metadata": {},
   "source": [
    "# Basic Introduction to Topological Data Analysis\n",
    "\n",
    "This notebook studies Topological Data Analysis using the GUDHI library.\n",
    "http://gudhi.gforge.inria.fr/\n",
    "\n",
    "The notebook was started from the tutorial below\n",
    "\n",
    "Taken from http://bertrand.michel.perso.math.cnrs.fr/Enseignements/TDA/Tuto-Part1.html\n",
    "\n",
    "The first section of the above tutorial looks at the data from the smart phones of three\n",
    "different users. The data is the acceleration of the smart phone in x,y and z directions.\n",
    "(For example you can use https://phyphox.org/ to get such data. However, this not needed for this tutorial.)\n",
    "\n",
    "I would start with reading the first part of the above tutorial.\n",
    "\n",
    "The aim of this tutorial is to look at different persistence diagrams for simulated data sets and\n",
    "to compare it to the data from the smart phone.\n"
   ]
  },
  {
   "cell_type": "code",
   "execution_count": null,
   "metadata": {},
   "outputs": [],
   "source": [
    "import numpy as np\n",
    "import pandas as pd\n",
    "import pickle as pickle\n",
    "import gudhi as gd\n",
    "from pylab import *\n",
    "import seaborn as sns\n",
    "from mpl_toolkits.mplot3d import Axes3D\n",
    "from IPython.display import Image\n",
    "from sklearn.neighbors.kde import KernelDensity\n",
    "%matplotlib inline"
   ]
  },
  {
   "cell_type": "markdown",
   "metadata": {},
   "source": [
    "## Input the data from disk\n",
    "Note that the format of the datafile is pickle is not particulary portable."
   ]
  },
  {
   "cell_type": "code",
   "execution_count": null,
   "metadata": {},
   "outputs": [],
   "source": [
    "f = open(\"data_acc\",\"rb\")\n",
    "data = pickle.load(f, encoding='latin1')\n",
    "f.close()\n"
   ]
  },
  {
   "cell_type": "markdown",
   "metadata": {},
   "source": [
    "We will look at person A. \n",
    "Given that the data is the acceleration (and ignoring that there are no units). What do you notice about the values\n",
    "of the acceleration?"
   ]
  },
  {
   "cell_type": "code",
   "execution_count": null,
   "metadata": {},
   "outputs": [],
   "source": [
    "data_A = data[0]\n",
    "data_B = data[1] \n",
    "data_C = data[2]\n",
    "label = data[3]\n",
    "print(data_A)"
   ]
  },
  {
   "cell_type": "markdown",
   "metadata": {},
   "source": [
    "Plot the data in three dimensions"
   ]
  },
  {
   "cell_type": "code",
   "execution_count": null,
   "metadata": {},
   "outputs": [],
   "source": [
    "data_A_sample = data_A[0]\n",
    "plt.gca(projection='3d')\n",
    "plt.plot(data_A_sample [:,0],data_A_sample [:,1],data_A_sample [:,2] )\n"
   ]
  },
  {
   "cell_type": "markdown",
   "metadata": {},
   "source": [
    "## Start of the topological data analysis\n",
    "The aim is to summarize the data using a persistence diagram\n",
    "\n",
    "*  There is information about topological data analysis at:  https://en.wikipedia.org/wiki/Topological_data_analysis\n",
    "* See the readable blog post https://towardsdatascience.com/from-tda-to-dl-d06f234f51d"
   ]
  },
  {
   "cell_type": "code",
   "execution_count": null,
   "metadata": {},
   "outputs": [],
   "source": [
    "Rips_complex_sample = gd.RipsComplex(points = data_A_sample,max_edge_length=0.8 )"
   ]
  },
  {
   "cell_type": "code",
   "execution_count": null,
   "metadata": {},
   "outputs": [],
   "source": [
    "Rips_simplex_tree_sample = Rips_complex_sample.create_simplex_tree(max_dimension=3) "
   ]
  },
  {
   "cell_type": "code",
   "execution_count": null,
   "metadata": {},
   "outputs": [],
   "source": [
    "diag_Rips = Rips_simplex_tree_sample.persistence()\n",
    "diag_Rips"
   ]
  },
  {
   "cell_type": "code",
   "execution_count": null,
   "metadata": {},
   "outputs": [],
   "source": [
    "Rips_simplex_tree_sample.persistence_intervals_in_dimension(0)\n"
   ]
  },
  {
   "cell_type": "code",
   "execution_count": null,
   "metadata": {},
   "outputs": [],
   "source": [
    "gd.plot_persistence_diagram(diag_Rips)"
   ]
  },
  {
   "cell_type": "markdown",
   "metadata": {},
   "source": [
    "## Some simpler test case"
   ]
  },
  {
   "cell_type": "markdown",
   "metadata": {},
   "source": [
    "The sklearn module has sone code to create simple objects, which can be used to test various cluster algorithms.\n",
    "This just creates some simulated data. See  https://scikit-learn.org/stable/modules/generated/sklearn.datasets.make_blobs.html  for documentation. \n",
    "\n",
    "What to try\n",
    " * Compare the persistence diagram against the data above\n",
    " * One thing to do is to create just one cluster.\n",
    " * The scikit-learn documentation can create other simulated data sets. https://scikit-learn.org/stable/datasets/index.html#generated-datasets  Can you use another data set."
   ]
  },
  {
   "cell_type": "code",
   "execution_count": null,
   "metadata": {},
   "outputs": [],
   "source": [
    "from sklearn.datasets.samples_generator import make_blobs"
   ]
  },
  {
   "cell_type": "code",
   "execution_count": null,
   "metadata": {},
   "outputs": [],
   "source": [
    "# generate 2d classification dataset\n",
    "X, y = make_blobs(n_samples=1000, centers=3, n_features=3)"
   ]
  },
  {
   "cell_type": "code",
   "execution_count": null,
   "metadata": {},
   "outputs": [],
   "source": [
    "from matplotlib import pyplot\n",
    "from mpl_toolkits import mplot3d"
   ]
  },
  {
   "cell_type": "code",
   "execution_count": null,
   "metadata": {},
   "outputs": [],
   "source": [
    "fig = pyplot.figure()\n",
    "ax = fig.add_subplot(111, projection='3d')\n",
    "ax.scatter(X[:,0] ,X[:,1] ,X[:,2] , c=\"r\", marker='o')"
   ]
  },
  {
   "cell_type": "markdown",
   "metadata": {},
   "source": [
    "# Apply the TDA techniques to this data set."
   ]
  },
  {
   "cell_type": "code",
   "execution_count": null,
   "metadata": {},
   "outputs": [],
   "source": [
    "Rips_complex_sampleX = gd.RipsComplex(points = X,max_edge_length=0.8 )"
   ]
  },
  {
   "cell_type": "code",
   "execution_count": null,
   "metadata": {},
   "outputs": [],
   "source": [
    "Rips_simplex_tree_sampleX = Rips_complex_sampleX.create_simplex_tree(max_dimension=3) \n",
    "diag_RipsX = Rips_simplex_tree_sampleX.persistence()"
   ]
  },
  {
   "cell_type": "code",
   "execution_count": null,
   "metadata": {},
   "outputs": [],
   "source": [
    "Rips_simplex_tree_sampleX.persistence_intervals_in_dimension(0)"
   ]
  },
  {
   "cell_type": "code",
   "execution_count": null,
   "metadata": {},
   "outputs": [],
   "source": [
    "gd.plot_persistence_diagram(diag_RipsX)"
   ]
  },
  {
   "cell_type": "markdown",
   "metadata": {},
   "source": [
    "##  Torus\n",
    "You can repeat the computation with the points from the torus\n",
    "http://mathworld.wolfram.com/Torus.html"
   ]
  },
  {
   "cell_type": "code",
   "execution_count": null,
   "metadata": {},
   "outputs": [],
   "source": [
    "import random\n",
    "import math\n",
    "\n",
    "def make_torus(ndata) :\n",
    "  i = 0\n",
    "  XX = np.zeros(ndata*3).reshape((ndata,3))\n",
    "\n",
    "  while i < ndata : \n",
    "    x = 20 * random.random() - 10\n",
    "    y = 20 * random.random() - 10\n",
    "##    tmp = 25 - (10 - math.sqrt(x*x + y*y))**2\n",
    "    tmp = 5 - (4 - math.sqrt(x*x + y*y))**2\n",
    "\n",
    "    if tmp > 0 :\n",
    "      ss = random.random()\n",
    "      if ss < 0.5 :\n",
    "        z = math.sqrt(tmp) \n",
    "      else:\n",
    "        z = -1.0 * math.sqrt(tmp) \n",
    "      \n",
    "      XX[i,0] = x \n",
    "      XX[i,1] = y\n",
    "      XX[i,2] = z \n",
    "      i += 1\n",
    "\n",
    "#      print (x, y, z)\n",
    "\n",
    "  return XX\n"
   ]
  },
  {
   "cell_type": "code",
   "execution_count": null,
   "metadata": {},
   "outputs": [],
   "source": [
    "from matplotlib import pyplot\n",
    "fig = pyplot.figure()\n",
    "ax = fig.add_subplot(111, projection='3d')\n",
    "\n",
    "TTT = make_torus(2000) \n",
    "\n",
    "ax.scatter(TTT[:,0] ,TTT[:,1] ,TTT[:,2] , c=\"r\", marker='o')"
   ]
  },
  {
   "cell_type": "code",
   "execution_count": null,
   "metadata": {},
   "outputs": [],
   "source": []
  },
  {
   "cell_type": "code",
   "execution_count": null,
   "metadata": {},
   "outputs": [],
   "source": []
  }
 ],
 "metadata": {
  "kernelspec": {
   "display_name": "Python 3",
   "language": "python",
   "name": "python3"
  },
  "language_info": {
   "codemirror_mode": {
    "name": "ipython",
    "version": 3
   },
   "file_extension": ".py",
   "mimetype": "text/x-python",
   "name": "python",
   "nbconvert_exporter": "python",
   "pygments_lexer": "ipython3",
   "version": "3.6.7"
  }
 },
 "nbformat": 4,
 "nbformat_minor": 2
}
