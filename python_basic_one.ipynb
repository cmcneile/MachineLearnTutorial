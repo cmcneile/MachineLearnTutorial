{
 "cells": [
  {
   "cell_type": "markdown",
   "metadata": {},
   "source": [
    "# Quick introduction to Python\n",
    "First some of the python used in the slides"
   ]
  },
  {
   "cell_type": "markdown",
   "metadata": {},
   "source": [
    "# Some example code\n",
    "Run the code below. Then can you comment out the print statements"
   ]
  },
  {
   "cell_type": "code",
   "execution_count": 4,
   "metadata": {},
   "outputs": [
    {
     "name": "stdout",
     "output_type": "stream",
     "text": [
      "Hello world\n",
      "a =  2\n",
      "a =  4\n"
     ]
    }
   ],
   "source": [
    "# Traditionally we start by writing to the screen\n",
    "print (\"Hello world\")\n",
    "a = 2\n",
    "print (\"a = \" , a)\n",
    "a = a + 2\n",
    "print (\"a = \" , a)"
   ]
  },
  {
   "cell_type": "markdown",
   "metadata": {},
   "source": [
    "Examples of the definition of a function and a loop"
   ]
  },
  {
   "cell_type": "code",
   "execution_count": 5,
   "metadata": {},
   "outputs": [
    {
     "name": "stdout",
     "output_type": "stream",
     "text": [
      "0 0\n",
      "1 1\n",
      "2 8\n",
      "3 27\n",
      "4 64\n"
     ]
    }
   ],
   "source": [
    "# A simple function for cube\n",
    "def cube(y):\n",
    "  return y*y*y\n",
    "\n",
    "# a simple loop over 0 to 4\n",
    "for i in range(0,5):\n",
    "   print (i, cube(i))"
   ]
  },
  {
   "cell_type": "markdown",
   "metadata": {},
   "source": [
    "Loops inside functions\n",
    "Note the importance of white space for the function and definition of the loops"
   ]
  },
  {
   "cell_type": "code",
   "execution_count": 9,
   "metadata": {},
   "outputs": [
    {
     "name": "stdout",
     "output_type": "stream",
     "text": [
      "Mean =  0.2875\n"
     ]
    }
   ],
   "source": [
    "# basic function to compute the mean\n",
    "def mean(data):\n",
    "  ans = 0.0\n",
    "  for x in data:\n",
    "     ans = ans + x\n",
    "  print (\"Mean = \" , ans / len(data))\n",
    "\n",
    "yy = [ 0.2 , 0.3 , 0.4 , 0.25  ]\n",
    "mean(yy)\n"
   ]
  },
  {
   "cell_type": "markdown",
   "metadata": {},
   "source": [
    "Calling a mathematical function"
   ]
  },
  {
   "cell_type": "code",
   "execution_count": 11,
   "metadata": {},
   "outputs": [
    {
     "name": "stdout",
     "output_type": "stream",
     "text": [
      "3.142 -0.0004073463989414262\n"
     ]
    }
   ],
   "source": [
    "import math\n",
    "#\n",
    "x = 3.142\n",
    "print (x , math.sin(x))"
   ]
  },
  {
   "cell_type": "code",
   "execution_count": null,
   "metadata": {},
   "outputs": [],
   "source": []
  }
 ],
 "metadata": {
  "kernelspec": {
   "display_name": "Python 3",
   "language": "python",
   "name": "python3"
  },
  "language_info": {
   "codemirror_mode": {
    "name": "ipython",
    "version": 3
   },
   "file_extension": ".py",
   "mimetype": "text/x-python",
   "name": "python",
   "nbconvert_exporter": "python",
   "pygments_lexer": "ipython3",
   "version": "3.6.7"
  }
 },
 "nbformat": 4,
 "nbformat_minor": 2
}
