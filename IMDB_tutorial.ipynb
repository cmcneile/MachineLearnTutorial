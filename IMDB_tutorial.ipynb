{
 "cells": [
  {
   "cell_type": "markdown",
   "metadata": {},
   "source": [
    "# Using a Neural Network to analyze text.\n",
    "This tutorial uses film reviews from the Internet Movie Data Base.\n",
    "\n"
   ]
  },
  {
   "cell_type": "markdown",
   "metadata": {},
   "source": [
    "## IO section"
   ]
  },
  {
   "cell_type": "code",
   "execution_count": 1,
   "metadata": {},
   "outputs": [
    {
     "name": "stdout",
     "output_type": "stream",
     "text": [
      "1.10.0\n"
     ]
    }
   ],
   "source": [
    "from __future__ import absolute_import, division, print_function\n",
    "\n",
    "import tensorflow as tf\n",
    "from tensorflow import keras\n",
    "\n",
    "import numpy as np\n",
    "\n",
    "print(tf.__version__)\n",
    "\n",
    "\n",
    "imdb = keras.datasets.imdb\n",
    "\n",
    "(train_data, train_labels), (test_data, test_labels) = imdb.load_data(num_words=10000)\n"
   ]
  },
  {
   "cell_type": "markdown",
   "metadata": {},
   "source": [
    "\n",
    "## Investigate the input data"
   ]
  },
  {
   "cell_type": "code",
   "execution_count": 3,
   "metadata": {},
   "outputs": [
    {
     "name": "stdout",
     "output_type": "stream",
     "text": [
      "[1, 14, 22, 16, 43, 530, 973, 1622, 1385, 65, 458, 4468, 66, 3941, 4, 173, 36, 256, 5, 25, 100, 43, 838, 112, 50, 670, 2, 9, 35, 480, 284, 5, 150, 4, 172, 112, 167, 2, 336, 385, 39, 4, 172, 4536, 1111, 17, 546, 38, 13, 447, 4, 192, 50, 16, 6, 147, 2025, 19, 14, 22, 4, 1920, 4613, 469, 4, 22, 71, 87, 12, 16, 43, 530, 38, 76, 15, 13, 1247, 4, 22, 17, 515, 17, 12, 16, 626, 18, 2, 5, 62, 386, 12, 8, 316, 8, 106, 5, 4, 2223, 5244, 16, 480, 66, 3785, 33, 4, 130, 12, 16, 38, 619, 5, 25, 124, 51, 36, 135, 48, 25, 1415, 33, 6, 22, 12, 215, 28, 77, 52, 5, 14, 407, 16, 82, 2, 8, 4, 107, 117, 5952, 15, 256, 4, 2, 7, 3766, 5, 723, 36, 71, 43, 530, 476, 26, 400, 317, 46, 7, 4, 2, 1029, 13, 104, 88, 4, 381, 15, 297, 98, 32, 2071, 56, 26, 141, 6, 194, 7486, 18, 4, 226, 22, 21, 134, 476, 26, 480, 5, 144, 30, 5535, 18, 51, 36, 28, 224, 92, 25, 104, 4, 226, 65, 16, 38, 1334, 88, 12, 16, 283, 5, 16, 4472, 113, 103, 32, 15, 16, 5345, 19, 178, 32]\n",
      "218 189\n"
     ]
    }
   ],
   "source": [
    "print(train_data[0])\n",
    "print(len(train_data[0]), len(train_data[1]))\n",
    "\n",
    "\n",
    "\n",
    "# A dictionary mapping words to an integer index\n",
    "word_index = imdb.get_word_index()\n",
    "\n",
    "# The first indices are reserved\n",
    "word_index = {k:(v+3) for k,v in word_index.items()} \n",
    "word_index[\"<PAD>\"] = 0\n",
    "word_index[\"<START>\"] = 1\n",
    "word_index[\"<UNK>\"] = 2  # unknown\n",
    "word_index[\"<UNUSED>\"] = 3\n",
    "\n",
    "reverse_word_index = dict([(value, key) for (key, value) in word_index.items()])"
   ]
  },
  {
   "cell_type": "code",
   "execution_count": 4,
   "metadata": {},
   "outputs": [
    {
     "name": "stdout",
     "output_type": "stream",
     "text": [
      "<START> worst mistake of my life br br i picked this movie up at target for 5 because i figured hey it's sandler i can get some cheap laughs i was wrong completely wrong mid way through the film all three of my friends were asleep and i was still suffering worst plot worst script worst movie i have ever seen i wanted to hit my head up against a wall for an hour then i'd stop and you know why because it felt damn good upon bashing my head in i stuck that damn movie in the <UNK> and watched it burn and that felt better than anything else i've ever done it took american psycho army of darkness and kill bill just to get over that crap i hate you sandler for actually going through with this and ruining a whole day of my life\n",
      "Label =  0\n"
     ]
    }
   ],
   "source": [
    "\n",
    "def decode_review(text):\n",
    "    return ' '.join([reverse_word_index.get(i, '?') for i in text])\n",
    "\n",
    "iii = 4 \n",
    "print(decode_review(train_data[iii]))\n",
    "print(\"Label = \" , train_labels[iii])\n",
    "\n"
   ]
  },
  {
   "cell_type": "code",
   "execution_count": 5,
   "metadata": {},
   "outputs": [
    {
     "name": "stdout",
     "output_type": "stream",
     "text": [
      "256 256\n",
      "[   1   14   22   16   43  530  973 1622 1385   65  458 4468   66 3941\n",
      "    4  173   36  256    5   25  100   43  838  112   50  670    2    9\n",
      "   35  480  284    5  150    4  172  112  167    2  336  385   39    4\n",
      "  172 4536 1111   17  546   38   13  447    4  192   50   16    6  147\n",
      " 2025   19   14   22    4 1920 4613  469    4   22   71   87   12   16\n",
      "   43  530   38   76   15   13 1247    4   22   17  515   17   12   16\n",
      "  626   18    2    5   62  386   12    8  316    8  106    5    4 2223\n",
      " 5244   16  480   66 3785   33    4  130   12   16   38  619    5   25\n",
      "  124   51   36  135   48   25 1415   33    6   22   12  215   28   77\n",
      "   52    5   14  407   16   82    2    8    4  107  117 5952   15  256\n",
      "    4    2    7 3766    5  723   36   71   43  530  476   26  400  317\n",
      "   46    7    4    2 1029   13  104   88    4  381   15  297   98   32\n",
      " 2071   56   26  141    6  194 7486   18    4  226   22   21  134  476\n",
      "   26  480    5  144   30 5535   18   51   36   28  224   92   25  104\n",
      "    4  226   65   16   38 1334   88   12   16  283    5   16 4472  113\n",
      "  103   32   15   16 5345   19  178   32    0    0    0    0    0    0\n",
      "    0    0    0    0    0    0    0    0    0    0    0    0    0    0\n",
      "    0    0    0    0    0    0    0    0    0    0    0    0    0    0\n",
      "    0    0    0    0]\n"
     ]
    }
   ],
   "source": [
    "train_data = keras.preprocessing.sequence.pad_sequences(train_data,\n",
    "                                                        value=word_index[\"<PAD>\"],\n",
    "                                                        padding='post',\n",
    "                                                        maxlen=256)\n",
    "\n",
    "test_data = keras.preprocessing.sequence.pad_sequences(test_data,\n",
    "                                                       value=word_index[\"<PAD>\"],\n",
    "                                                       padding='post',\n",
    "                                                       maxlen=256)\n",
    "\n",
    "\n",
    "print(len(train_data[0]), len(train_data[1]))\n",
    "\n",
    "\n",
    "\n",
    "print(train_data[0])\n"
   ]
  },
  {
   "cell_type": "markdown",
   "metadata": {},
   "source": [
    "##  Define the Neural Network"
   ]
  },
  {
   "cell_type": "code",
   "execution_count": 8,
   "metadata": {},
   "outputs": [
    {
     "name": "stdout",
     "output_type": "stream",
     "text": [
      "_________________________________________________________________\n",
      "Layer (type)                 Output Shape              Param #   \n",
      "=================================================================\n",
      "embedding_1 (Embedding)      (None, None, 16)          160000    \n",
      "_________________________________________________________________\n",
      "global_average_pooling1d_1 ( (None, 16)                0         \n",
      "_________________________________________________________________\n",
      "dense_3 (Dense)              (None, 16)                272       \n",
      "_________________________________________________________________\n",
      "dense_4 (Dense)              (None, 16)                272       \n",
      "_________________________________________________________________\n",
      "dense_5 (Dense)              (None, 1)                 17        \n",
      "_________________________________________________________________\n",
      "dense_6 (Dense)              (None, 1)                 2         \n",
      "=================================================================\n",
      "Total params: 160,563\n",
      "Trainable params: 160,563\n",
      "Non-trainable params: 0\n",
      "_________________________________________________________________\n"
     ]
    }
   ],
   "source": [
    "# input shape is the vocabulary count used for the movie reviews (10,000 words)\n",
    "vocab_size = 10000\n",
    "\n",
    "model = keras.Sequential()\n",
    "model.add(keras.layers.Embedding(vocab_size, 16))\n",
    "model.add(keras.layers.GlobalAveragePooling1D())\n",
    "model.add(keras.layers.Dense(16, activation=tf.nn.relu))\n",
    "model.add(keras.layers.Dense(16, activation=tf.nn.relu)) #  craig add\n",
    "model.add(keras.layers.Dense(1, activation=tf.nn.sigmoid))\n",
    "\n",
    "model.add(keras.layers.Dense(1, activation=tf.nn.sigmoid))  #  craig add\n",
    "\n",
    "model.summary()\n",
    "\n"
   ]
  },
  {
   "cell_type": "markdown",
   "metadata": {},
   "source": [
    "## Train the Neural Network"
   ]
  },
  {
   "cell_type": "code",
   "execution_count": 9,
   "metadata": {},
   "outputs": [
    {
     "name": "stderr",
     "output_type": "stream",
     "text": [
      "/Users/cmcneile/anaconda3/lib/python3.6/site-packages/tensorflow/python/ops/gradients_impl.py:108: UserWarning: Converting sparse IndexedSlices to a dense Tensor of unknown shape. This may consume a large amount of memory.\n",
      "  \"Converting sparse IndexedSlices to a dense Tensor of unknown shape. \"\n"
     ]
    },
    {
     "name": "stdout",
     "output_type": "stream",
     "text": [
      "Train on 15000 samples, validate on 10000 samples\n",
      "Epoch 1/40\n",
      "15000/15000 [==============================] - 1s 69us/step - loss: 0.6945 - acc: 0.4965 - val_loss: 0.6930 - val_acc: 0.5053\n",
      "Epoch 2/40\n",
      "15000/15000 [==============================] - 1s 35us/step - loss: 0.6931 - acc: 0.4965 - val_loss: 0.6929 - val_acc: 0.5053\n",
      "Epoch 3/40\n",
      "15000/15000 [==============================] - 1s 34us/step - loss: 0.6928 - acc: 0.4989 - val_loss: 0.6927 - val_acc: 0.5310\n",
      "Epoch 4/40\n",
      "15000/15000 [==============================] - 0s 32us/step - loss: 0.6926 - acc: 0.5035 - val_loss: 0.6923 - val_acc: 0.5062\n",
      "Epoch 5/40\n",
      "15000/15000 [==============================] - 1s 35us/step - loss: 0.6921 - acc: 0.5203 - val_loss: 0.6916 - val_acc: 0.5090\n",
      "Epoch 6/40\n",
      "15000/15000 [==============================] - 1s 37us/step - loss: 0.6910 - acc: 0.4973 - val_loss: 0.6897 - val_acc: 0.5057\n",
      "Epoch 7/40\n",
      "15000/15000 [==============================] - 1s 34us/step - loss: 0.6884 - acc: 0.5023 - val_loss: 0.6860 - val_acc: 0.5263\n",
      "Epoch 8/40\n",
      "15000/15000 [==============================] - 1s 34us/step - loss: 0.6826 - acc: 0.5461 - val_loss: 0.6784 - val_acc: 0.5806\n",
      "Epoch 9/40\n",
      "15000/15000 [==============================] - 1s 59us/step - loss: 0.6729 - acc: 0.6113 - val_loss: 0.6671 - val_acc: 0.6540\n",
      "Epoch 10/40\n",
      "15000/15000 [==============================] - 1s 45us/step - loss: 0.6578 - acc: 0.6847 - val_loss: 0.6502 - val_acc: 0.7072\n",
      "Epoch 11/40\n",
      "15000/15000 [==============================] - 0s 33us/step - loss: 0.6382 - acc: 0.7393 - val_loss: 0.6309 - val_acc: 0.7454\n",
      "Epoch 12/40\n",
      "15000/15000 [==============================] - 1s 37us/step - loss: 0.6174 - acc: 0.7787 - val_loss: 0.6113 - val_acc: 0.7844\n",
      "Epoch 13/40\n",
      "15000/15000 [==============================] - 1s 35us/step - loss: 0.5965 - acc: 0.8140 - val_loss: 0.5929 - val_acc: 0.8064\n",
      "Epoch 14/40\n",
      "15000/15000 [==============================] - 1s 37us/step - loss: 0.5778 - acc: 0.8377 - val_loss: 0.5774 - val_acc: 0.8351\n",
      "Epoch 15/40\n",
      "15000/15000 [==============================] - 1s 36us/step - loss: 0.5607 - acc: 0.8591 - val_loss: 0.5626 - val_acc: 0.8410\n",
      "Epoch 16/40\n",
      "15000/15000 [==============================] - 1s 38us/step - loss: 0.5460 - acc: 0.8711 - val_loss: 0.5508 - val_acc: 0.8480\n",
      "Epoch 17/40\n",
      "15000/15000 [==============================] - 1s 38us/step - loss: 0.5329 - acc: 0.8831 - val_loss: 0.5401 - val_acc: 0.8545\n",
      "Epoch 18/40\n",
      "15000/15000 [==============================] - 1s 34us/step - loss: 0.5207 - acc: 0.8897 - val_loss: 0.5311 - val_acc: 0.8560\n",
      "Epoch 19/40\n",
      "15000/15000 [==============================] - 1s 34us/step - loss: 0.5095 - acc: 0.8976 - val_loss: 0.5221 - val_acc: 0.8646\n",
      "Epoch 20/40\n",
      "15000/15000 [==============================] - 0s 33us/step - loss: 0.4988 - acc: 0.9023 - val_loss: 0.5142 - val_acc: 0.8654\n",
      "Epoch 21/40\n",
      "15000/15000 [==============================] - 1s 34us/step - loss: 0.4891 - acc: 0.9089 - val_loss: 0.5105 - val_acc: 0.8588\n",
      "Epoch 22/40\n",
      "15000/15000 [==============================] - 0s 33us/step - loss: 0.4798 - acc: 0.9129 - val_loss: 0.4999 - val_acc: 0.8714\n",
      "Epoch 23/40\n",
      "15000/15000 [==============================] - 0s 32us/step - loss: 0.4704 - acc: 0.9193 - val_loss: 0.4943 - val_acc: 0.8731\n",
      "Epoch 24/40\n",
      "15000/15000 [==============================] - 0s 33us/step - loss: 0.4618 - acc: 0.9241 - val_loss: 0.4879 - val_acc: 0.8739\n",
      "Epoch 25/40\n",
      "15000/15000 [==============================] - 0s 31us/step - loss: 0.4532 - acc: 0.9270 - val_loss: 0.4822 - val_acc: 0.8751\n",
      "Epoch 26/40\n",
      "15000/15000 [==============================] - 1s 35us/step - loss: 0.4449 - acc: 0.9317 - val_loss: 0.4767 - val_acc: 0.8764\n",
      "Epoch 27/40\n",
      "15000/15000 [==============================] - 0s 31us/step - loss: 0.4370 - acc: 0.9340 - val_loss: 0.4718 - val_acc: 0.8775\n",
      "Epoch 28/40\n",
      "15000/15000 [==============================] - 0s 31us/step - loss: 0.4290 - acc: 0.9383 - val_loss: 0.4664 - val_acc: 0.8804\n",
      "Epoch 29/40\n",
      "15000/15000 [==============================] - 0s 31us/step - loss: 0.4217 - acc: 0.9417 - val_loss: 0.4616 - val_acc: 0.8797\n",
      "Epoch 30/40\n",
      "15000/15000 [==============================] - 0s 33us/step - loss: 0.4146 - acc: 0.9443 - val_loss: 0.4571 - val_acc: 0.8806\n",
      "Epoch 31/40\n",
      "15000/15000 [==============================] - 0s 33us/step - loss: 0.4074 - acc: 0.9471 - val_loss: 0.4537 - val_acc: 0.8795\n",
      "Epoch 32/40\n",
      "15000/15000 [==============================] - 1s 34us/step - loss: 0.4006 - acc: 0.9490 - val_loss: 0.4494 - val_acc: 0.8809\n",
      "Epoch 33/40\n",
      "15000/15000 [==============================] - 1s 33us/step - loss: 0.3939 - acc: 0.9517 - val_loss: 0.4460 - val_acc: 0.8812\n",
      "Epoch 34/40\n",
      "15000/15000 [==============================] - 0s 33us/step - loss: 0.3874 - acc: 0.9541 - val_loss: 0.4417 - val_acc: 0.8806\n",
      "Epoch 35/40\n",
      "15000/15000 [==============================] - 0s 28us/step - loss: 0.3812 - acc: 0.9573 - val_loss: 0.4385 - val_acc: 0.8823\n",
      "Epoch 36/40\n",
      "15000/15000 [==============================] - 0s 28us/step - loss: 0.3751 - acc: 0.9589 - val_loss: 0.4350 - val_acc: 0.8829\n",
      "Epoch 37/40\n",
      "15000/15000 [==============================] - 0s 28us/step - loss: 0.3690 - acc: 0.9603 - val_loss: 0.4320 - val_acc: 0.8809\n",
      "Epoch 38/40\n",
      "15000/15000 [==============================] - 0s 28us/step - loss: 0.3630 - acc: 0.9628 - val_loss: 0.4294 - val_acc: 0.8815\n",
      "Epoch 39/40\n",
      "15000/15000 [==============================] - 0s 26us/step - loss: 0.3578 - acc: 0.9637 - val_loss: 0.4258 - val_acc: 0.8828\n",
      "Epoch 40/40\n",
      "15000/15000 [==============================] - 0s 31us/step - loss: 0.3522 - acc: 0.9655 - val_loss: 0.4233 - val_acc: 0.8812\n"
     ]
    }
   ],
   "source": [
    "model.compile(optimizer='adam',\n",
    "              loss='binary_crossentropy',\n",
    "              metrics=['acc'])\n",
    "\n",
    "x_val = train_data[:10000]\n",
    "partial_x_train = train_data[10000:]\n",
    "\n",
    "y_val = train_labels[:10000]\n",
    "partial_y_train = train_labels[10000:]\n",
    "\n",
    "\n",
    "history = model.fit(partial_x_train,\n",
    "                    partial_y_train,\n",
    "                    epochs=40,\n",
    "                    batch_size=512,\n",
    "                    validation_data=(x_val, y_val),\n",
    "                    verbose=1)\n",
    "\n"
   ]
  },
  {
   "cell_type": "code",
   "execution_count": null,
   "metadata": {},
   "outputs": [],
   "source": [
    "## Evaluate the neural network"
   ]
  },
  {
   "cell_type": "code",
   "execution_count": 10,
   "metadata": {},
   "outputs": [
    {
     "name": "stdout",
     "output_type": "stream",
     "text": [
      "25000/25000 [==============================] - 1s 32us/step\n",
      "[0.4331429583835602, 0.87012]\n",
      "dict_keys(['val_loss', 'val_acc', 'loss', 'acc'])\n"
     ]
    }
   ],
   "source": [
    "results = model.evaluate(test_data, test_labels)\n",
    "\n",
    "print(results)\n",
    "\n",
    "\n",
    "history_dict = history.history\n",
    "print(history_dict.keys())"
   ]
  },
  {
   "cell_type": "code",
   "execution_count": 11,
   "metadata": {},
   "outputs": [
    {
     "data": {
      "text/plain": [
       "<Figure size 640x480 with 1 Axes>"
      ]
     },
     "metadata": {},
     "output_type": "display_data"
    }
   ],
   "source": [
    "import matplotlib.pyplot as plt\n",
    "\n",
    "acc = history_dict['acc']\n",
    "val_acc = history_dict['val_acc']\n",
    "loss = history_dict['loss']\n",
    "val_loss = history_dict['val_loss']\n",
    "\n",
    "epochs = range(1, len(acc) + 1)\n",
    "\n",
    "# \"bo\" is for \"blue dot\"\n",
    "plt.plot(epochs, loss, 'bo', label='Training loss')\n",
    "# b is for \"solid blue line\"\n",
    "plt.plot(epochs, val_loss, 'b', label='Validation loss')\n",
    "plt.title('Training and validation loss')\n",
    "plt.xlabel('Epochs')\n",
    "plt.ylabel('Loss')\n",
    "plt.legend()\n",
    "\n",
    "plt.show()\n"
   ]
  },
  {
   "cell_type": "code",
   "execution_count": null,
   "metadata": {},
   "outputs": [],
   "source": []
  }
 ],
 "metadata": {
  "kernelspec": {
   "display_name": "Python 3",
   "language": "python",
   "name": "python3"
  },
  "language_info": {
   "codemirror_mode": {
    "name": "ipython",
    "version": 3
   },
   "file_extension": ".py",
   "mimetype": "text/x-python",
   "name": "python",
   "nbconvert_exporter": "python",
   "pygments_lexer": "ipython3",
   "version": "3.6.7"
  }
 },
 "nbformat": 4,
 "nbformat_minor": 2
}
