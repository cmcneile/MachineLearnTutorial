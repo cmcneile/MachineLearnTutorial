{
 "cells": [
  {
   "cell_type": "markdown",
   "metadata": {},
   "source": [
    "# Using a Neural Network to analyze text.\n",
    "This tutorial uses film reviews from the Internet Movie Data Base.\n",
    "\n"
   ]
  },
  {
   "cell_type": "markdown",
   "metadata": {},
   "source": [
    "## IO section"
   ]
  },
  {
   "cell_type": "code",
   "execution_count": 1,
   "metadata": {},
   "outputs": [
    {
     "name": "stdout",
     "output_type": "stream",
     "text": [
      "1.10.0\n"
     ]
    }
   ],
   "source": [
    "from __future__ import absolute_import, division, print_function\n",
    "\n",
    "import tensorflow as tf\n",
    "from tensorflow import keras\n",
    "\n",
    "import numpy as np\n",
    "\n",
    "print(tf.__version__)\n",
    "\n",
    "\n",
    "imdb = keras.datasets.imdb\n",
    "\n",
    "(train_data, train_labels), (test_data, test_labels) = imdb.load_data(num_words=10000)\n"
   ]
  },
  {
   "cell_type": "markdown",
   "metadata": {},
   "source": [
    "\n",
    "## Investigate the input data"
   ]
  },
  {
   "cell_type": "code",
   "execution_count": 2,
   "metadata": {},
   "outputs": [
    {
     "name": "stdout",
     "output_type": "stream",
     "text": [
      "[1, 14, 22, 16, 43, 530, 973, 1622, 1385, 65, 458, 4468, 66, 3941, 4, 173, 36, 256, 5, 25, 100, 43, 838, 112, 50, 670, 2, 9, 35, 480, 284, 5, 150, 4, 172, 112, 167, 2, 336, 385, 39, 4, 172, 4536, 1111, 17, 546, 38, 13, 447, 4, 192, 50, 16, 6, 147, 2025, 19, 14, 22, 4, 1920, 4613, 469, 4, 22, 71, 87, 12, 16, 43, 530, 38, 76, 15, 13, 1247, 4, 22, 17, 515, 17, 12, 16, 626, 18, 2, 5, 62, 386, 12, 8, 316, 8, 106, 5, 4, 2223, 5244, 16, 480, 66, 3785, 33, 4, 130, 12, 16, 38, 619, 5, 25, 124, 51, 36, 135, 48, 25, 1415, 33, 6, 22, 12, 215, 28, 77, 52, 5, 14, 407, 16, 82, 2, 8, 4, 107, 117, 5952, 15, 256, 4, 2, 7, 3766, 5, 723, 36, 71, 43, 530, 476, 26, 400, 317, 46, 7, 4, 2, 1029, 13, 104, 88, 4, 381, 15, 297, 98, 32, 2071, 56, 26, 141, 6, 194, 7486, 18, 4, 226, 22, 21, 134, 476, 26, 480, 5, 144, 30, 5535, 18, 51, 36, 28, 224, 92, 25, 104, 4, 226, 65, 16, 38, 1334, 88, 12, 16, 283, 5, 16, 4472, 113, 103, 32, 15, 16, 5345, 19, 178, 32]\n",
      "218 189\n"
     ]
    }
   ],
   "source": [
    "print(train_data[0])\n",
    "print(len(train_data[0]), len(train_data[1]))\n",
    "\n",
    "\n",
    "\n",
    "# A dictionary mapping words to an integer index\n",
    "word_index = imdb.get_word_index()\n",
    "\n",
    "# The first indices are reserved\n",
    "word_index = {k:(v+3) for k,v in word_index.items()} \n",
    "word_index[\"<PAD>\"] = 0\n",
    "word_index[\"<START>\"] = 1\n",
    "word_index[\"<UNK>\"] = 2  # unknown\n",
    "word_index[\"<UNUSED>\"] = 3\n",
    "\n",
    "reverse_word_index = dict([(value, key) for (key, value) in word_index.items()])"
   ]
  },
  {
   "cell_type": "code",
   "execution_count": 3,
   "metadata": {},
   "outputs": [
    {
     "name": "stdout",
     "output_type": "stream",
     "text": [
      "<START> worst mistake of my life br br i picked this movie up at target for 5 because i figured hey it's sandler i can get some cheap laughs i was wrong completely wrong mid way through the film all three of my friends were asleep and i was still suffering worst plot worst script worst movie i have ever seen i wanted to hit my head up against a wall for an hour then i'd stop and you know why because it felt damn good upon bashing my head in i stuck that damn movie in the <UNK> and watched it burn and that felt better than anything else i've ever done it took american psycho army of darkness and kill bill just to get over that crap i hate you sandler for actually going through with this and ruining a whole day of my life\n",
      "Label =  0\n"
     ]
    }
   ],
   "source": [
    "\n",
    "def decode_review(text):\n",
    "    return ' '.join([reverse_word_index.get(i, '?') for i in text])\n",
    "\n",
    "iii = 4 \n",
    "print(decode_review(train_data[iii]))\n",
    "print(\"Label = \" , train_labels[iii])\n",
    "\n"
   ]
  },
  {
   "cell_type": "code",
   "execution_count": 4,
   "metadata": {},
   "outputs": [
    {
     "name": "stdout",
     "output_type": "stream",
     "text": [
      "256 256\n",
      "[   1   14   22   16   43  530  973 1622 1385   65  458 4468   66 3941\n",
      "    4  173   36  256    5   25  100   43  838  112   50  670    2    9\n",
      "   35  480  284    5  150    4  172  112  167    2  336  385   39    4\n",
      "  172 4536 1111   17  546   38   13  447    4  192   50   16    6  147\n",
      " 2025   19   14   22    4 1920 4613  469    4   22   71   87   12   16\n",
      "   43  530   38   76   15   13 1247    4   22   17  515   17   12   16\n",
      "  626   18    2    5   62  386   12    8  316    8  106    5    4 2223\n",
      " 5244   16  480   66 3785   33    4  130   12   16   38  619    5   25\n",
      "  124   51   36  135   48   25 1415   33    6   22   12  215   28   77\n",
      "   52    5   14  407   16   82    2    8    4  107  117 5952   15  256\n",
      "    4    2    7 3766    5  723   36   71   43  530  476   26  400  317\n",
      "   46    7    4    2 1029   13  104   88    4  381   15  297   98   32\n",
      " 2071   56   26  141    6  194 7486   18    4  226   22   21  134  476\n",
      "   26  480    5  144   30 5535   18   51   36   28  224   92   25  104\n",
      "    4  226   65   16   38 1334   88   12   16  283    5   16 4472  113\n",
      "  103   32   15   16 5345   19  178   32    0    0    0    0    0    0\n",
      "    0    0    0    0    0    0    0    0    0    0    0    0    0    0\n",
      "    0    0    0    0    0    0    0    0    0    0    0    0    0    0\n",
      "    0    0    0    0]\n"
     ]
    }
   ],
   "source": [
    "train_data = keras.preprocessing.sequence.pad_sequences(train_data,\n",
    "                                                        value=word_index[\"<PAD>\"],\n",
    "                                                        padding='post',\n",
    "                                                        maxlen=256)\n",
    "\n",
    "test_data = keras.preprocessing.sequence.pad_sequences(test_data,\n",
    "                                                       value=word_index[\"<PAD>\"],\n",
    "                                                       padding='post',\n",
    "                                                       maxlen=256)\n",
    "\n",
    "\n",
    "print(len(train_data[0]), len(train_data[1]))\n",
    "\n",
    "\n",
    "\n",
    "print(train_data[0])\n"
   ]
  },
  {
   "cell_type": "markdown",
   "metadata": {},
   "source": [
    "##  Define the Neural Network"
   ]
  },
  {
   "cell_type": "code",
   "execution_count": 5,
   "metadata": {},
   "outputs": [
    {
     "name": "stdout",
     "output_type": "stream",
     "text": [
      "_________________________________________________________________\n",
      "Layer (type)                 Output Shape              Param #   \n",
      "=================================================================\n",
      "embedding (Embedding)        (None, None, 16)          160000    \n",
      "_________________________________________________________________\n",
      "global_average_pooling1d (Gl (None, 16)                0         \n",
      "_________________________________________________________________\n",
      "dense (Dense)                (None, 16)                272       \n",
      "_________________________________________________________________\n",
      "dense_1 (Dense)              (None, 16)                272       \n",
      "_________________________________________________________________\n",
      "dense_2 (Dense)              (None, 1)                 17        \n",
      "_________________________________________________________________\n",
      "dense_3 (Dense)              (None, 1)                 2         \n",
      "=================================================================\n",
      "Total params: 160,563\n",
      "Trainable params: 160,563\n",
      "Non-trainable params: 0\n",
      "_________________________________________________________________\n"
     ]
    }
   ],
   "source": [
    "# input shape is the vocabulary count used for the movie reviews (10,000 words)\n",
    "vocab_size = 10000\n",
    "\n",
    "model = keras.Sequential()\n",
    "model.add(keras.layers.Embedding(vocab_size, 16))\n",
    "model.add(keras.layers.GlobalAveragePooling1D())\n",
    "model.add(keras.layers.Dense(16, activation=tf.nn.relu))\n",
    "model.add(keras.layers.Dense(16, activation=tf.nn.relu)) #  craig add\n",
    "model.add(keras.layers.Dense(1, activation=tf.nn.sigmoid))\n",
    "\n",
    "model.add(keras.layers.Dense(1, activation=tf.nn.sigmoid))  #  craig add\n",
    "\n",
    "model.summary()\n",
    "\n"
   ]
  },
  {
   "cell_type": "markdown",
   "metadata": {},
   "source": [
    "## Train the Neural Network"
   ]
  },
  {
   "cell_type": "code",
   "execution_count": 6,
   "metadata": {},
   "outputs": [
    {
     "name": "stderr",
     "output_type": "stream",
     "text": [
      "/Users/cmcneile/anaconda3/lib/python3.6/site-packages/tensorflow/python/ops/gradients_impl.py:108: UserWarning: Converting sparse IndexedSlices to a dense Tensor of unknown shape. This may consume a large amount of memory.\n",
      "  \"Converting sparse IndexedSlices to a dense Tensor of unknown shape. \"\n"
     ]
    },
    {
     "name": "stdout",
     "output_type": "stream",
     "text": [
      "Train on 15000 samples, validate on 10000 samples\n",
      "Epoch 1/40\n",
      "15000/15000 [==============================] - 1s 61us/step - loss: 0.7034 - acc: 0.5035 - val_loss: 0.7015 - val_acc: 0.4947\n",
      "Epoch 2/40\n",
      "15000/15000 [==============================] - 0s 32us/step - loss: 0.6967 - acc: 0.5035 - val_loss: 0.6955 - val_acc: 0.4947\n",
      "Epoch 3/40\n",
      "15000/15000 [==============================] - 0s 29us/step - loss: 0.6936 - acc: 0.5035 - val_loss: 0.6934 - val_acc: 0.4947\n",
      "Epoch 4/40\n",
      "15000/15000 [==============================] - 0s 31us/step - loss: 0.6928 - acc: 0.5035 - val_loss: 0.6928 - val_acc: 0.4947\n",
      "Epoch 5/40\n",
      "15000/15000 [==============================] - 0s 31us/step - loss: 0.6925 - acc: 0.5035 - val_loss: 0.6927 - val_acc: 0.4947\n",
      "Epoch 6/40\n",
      "15000/15000 [==============================] - 1s 62us/step - loss: 0.6922 - acc: 0.5035 - val_loss: 0.6923 - val_acc: 0.4948\n",
      "Epoch 7/40\n",
      "15000/15000 [==============================] - 1s 45us/step - loss: 0.6919 - acc: 0.5107 - val_loss: 0.6920 - val_acc: 0.4953\n",
      "Epoch 8/40\n",
      "15000/15000 [==============================] - 0s 32us/step - loss: 0.6914 - acc: 0.5041 - val_loss: 0.6916 - val_acc: 0.4947\n",
      "Epoch 9/40\n",
      "15000/15000 [==============================] - 0s 31us/step - loss: 0.6907 - acc: 0.5046 - val_loss: 0.6908 - val_acc: 0.4948\n",
      "Epoch 10/40\n",
      "15000/15000 [==============================] - 0s 32us/step - loss: 0.6896 - acc: 0.5036 - val_loss: 0.6896 - val_acc: 0.4949\n",
      "Epoch 11/40\n",
      "15000/15000 [==============================] - 0s 32us/step - loss: 0.6876 - acc: 0.5086 - val_loss: 0.6871 - val_acc: 0.5118\n",
      "Epoch 12/40\n",
      "15000/15000 [==============================] - 0s 27us/step - loss: 0.6840 - acc: 0.5225 - val_loss: 0.6828 - val_acc: 0.5598\n",
      "Epoch 13/40\n",
      "15000/15000 [==============================] - 0s 29us/step - loss: 0.6779 - acc: 0.6043 - val_loss: 0.6759 - val_acc: 0.5916\n",
      "Epoch 14/40\n",
      "15000/15000 [==============================] - 0s 24us/step - loss: 0.6683 - acc: 0.6790 - val_loss: 0.6652 - val_acc: 0.6535\n",
      "Epoch 15/40\n",
      "15000/15000 [==============================] - 0s 27us/step - loss: 0.6535 - acc: 0.7288 - val_loss: 0.6472 - val_acc: 0.7547\n",
      "Epoch 16/40\n",
      "15000/15000 [==============================] - 0s 21us/step - loss: 0.6301 - acc: 0.7687 - val_loss: 0.6229 - val_acc: 0.7933\n",
      "Epoch 17/40\n",
      "15000/15000 [==============================] - 0s 27us/step - loss: 0.6021 - acc: 0.8002 - val_loss: 0.5983 - val_acc: 0.7863\n",
      "Epoch 18/40\n",
      "15000/15000 [==============================] - 0s 19us/step - loss: 0.5773 - acc: 0.8338 - val_loss: 0.5772 - val_acc: 0.8329\n",
      "Epoch 19/40\n",
      "15000/15000 [==============================] - 0s 22us/step - loss: 0.5570 - acc: 0.8558 - val_loss: 0.5617 - val_acc: 0.8324\n",
      "Epoch 20/40\n",
      "15000/15000 [==============================] - 0s 29us/step - loss: 0.5396 - acc: 0.8726 - val_loss: 0.5475 - val_acc: 0.8463\n",
      "Epoch 21/40\n",
      "15000/15000 [==============================] - 0s 26us/step - loss: 0.5254 - acc: 0.8803 - val_loss: 0.5371 - val_acc: 0.8598\n",
      "Epoch 22/40\n",
      "15000/15000 [==============================] - 0s 22us/step - loss: 0.5122 - acc: 0.8922 - val_loss: 0.5248 - val_acc: 0.8641\n",
      "Epoch 23/40\n",
      "15000/15000 [==============================] - 0s 21us/step - loss: 0.4998 - acc: 0.8979 - val_loss: 0.5160 - val_acc: 0.8647\n",
      "Epoch 24/40\n",
      "15000/15000 [==============================] - 0s 27us/step - loss: 0.4890 - acc: 0.9032 - val_loss: 0.5071 - val_acc: 0.8695\n",
      "Epoch 25/40\n",
      "15000/15000 [==============================] - 0s 23us/step - loss: 0.4782 - acc: 0.9107 - val_loss: 0.4997 - val_acc: 0.8721\n",
      "Epoch 26/40\n",
      "15000/15000 [==============================] - 0s 24us/step - loss: 0.4682 - acc: 0.9158 - val_loss: 0.4922 - val_acc: 0.8748\n",
      "Epoch 27/40\n",
      "15000/15000 [==============================] - 0s 21us/step - loss: 0.4587 - acc: 0.9203 - val_loss: 0.4856 - val_acc: 0.8756\n",
      "Epoch 28/40\n",
      "15000/15000 [==============================] - 0s 28us/step - loss: 0.4498 - acc: 0.9248 - val_loss: 0.4796 - val_acc: 0.8780\n",
      "Epoch 29/40\n",
      "15000/15000 [==============================] - 0s 21us/step - loss: 0.4411 - acc: 0.9289 - val_loss: 0.4737 - val_acc: 0.8772\n",
      "Epoch 30/40\n",
      "15000/15000 [==============================] - 0s 22us/step - loss: 0.4331 - acc: 0.9315 - val_loss: 0.4685 - val_acc: 0.8780\n",
      "Epoch 31/40\n",
      "15000/15000 [==============================] - 0s 25us/step - loss: 0.4249 - acc: 0.9344 - val_loss: 0.4632 - val_acc: 0.8804\n",
      "Epoch 32/40\n",
      "15000/15000 [==============================] - 0s 24us/step - loss: 0.4171 - acc: 0.9392 - val_loss: 0.4583 - val_acc: 0.8812\n",
      "Epoch 33/40\n",
      "15000/15000 [==============================] - 0s 22us/step - loss: 0.4095 - acc: 0.9423 - val_loss: 0.4541 - val_acc: 0.8801\n",
      "Epoch 34/40\n",
      "15000/15000 [==============================] - 0s 20us/step - loss: 0.4028 - acc: 0.9451 - val_loss: 0.4497 - val_acc: 0.8816\n",
      "Epoch 35/40\n",
      "15000/15000 [==============================] - 0s 19us/step - loss: 0.3956 - acc: 0.9466 - val_loss: 0.4459 - val_acc: 0.8798\n",
      "Epoch 36/40\n",
      "15000/15000 [==============================] - 0s 20us/step - loss: 0.3890 - acc: 0.9494 - val_loss: 0.4415 - val_acc: 0.8829\n",
      "Epoch 37/40\n",
      "15000/15000 [==============================] - 0s 20us/step - loss: 0.3827 - acc: 0.9514 - val_loss: 0.4376 - val_acc: 0.8830\n",
      "Epoch 38/40\n",
      "15000/15000 [==============================] - 0s 22us/step - loss: 0.3760 - acc: 0.9534 - val_loss: 0.4351 - val_acc: 0.8803\n",
      "Epoch 39/40\n",
      "15000/15000 [==============================] - 0s 23us/step - loss: 0.3708 - acc: 0.9547 - val_loss: 0.4315 - val_acc: 0.8829\n",
      "Epoch 40/40\n",
      "15000/15000 [==============================] - 0s 21us/step - loss: 0.3642 - acc: 0.9571 - val_loss: 0.4278 - val_acc: 0.8842\n"
     ]
    }
   ],
   "source": [
    "model.compile(optimizer='adam',\n",
    "              loss='binary_crossentropy',\n",
    "              metrics=['acc'])\n",
    "\n",
    "x_val = train_data[:10000]\n",
    "partial_x_train = train_data[10000:]\n",
    "\n",
    "y_val = train_labels[:10000]\n",
    "partial_y_train = train_labels[10000:]\n",
    "\n",
    "\n",
    "history = model.fit(partial_x_train,\n",
    "                    partial_y_train,\n",
    "                    epochs=40,\n",
    "                    batch_size=512,\n",
    "                    validation_data=(x_val, y_val),\n",
    "                    verbose=1)\n",
    "\n"
   ]
  },
  {
   "cell_type": "code",
   "execution_count": 7,
   "metadata": {},
   "outputs": [],
   "source": [
    "## Evaluate the neural network"
   ]
  },
  {
   "cell_type": "code",
   "execution_count": 8,
   "metadata": {},
   "outputs": [
    {
     "name": "stdout",
     "output_type": "stream",
     "text": [
      "25000/25000 [==============================] - 0s 13us/step\n",
      "[0.43355467130661013, 0.87556]\n",
      "dict_keys(['val_loss', 'val_acc', 'loss', 'acc'])\n"
     ]
    }
   ],
   "source": [
    "results = model.evaluate(test_data, test_labels)\n",
    "\n",
    "print(results)\n",
    "\n",
    "\n",
    "history_dict = history.history\n",
    "print(history_dict.keys())"
   ]
  },
  {
   "cell_type": "code",
   "execution_count": 10,
   "metadata": {},
   "outputs": [
    {
     "data": {
      "image/png": "[encoded data removed]",
      "text/plain": [
       "<Figure size 432x288 with 1 Axes>"
      ]
     },
     "metadata": {
      "needs_background": "light"
     },
     "output_type": "display_data"
    }
   ],
   "source": [
    "import matplotlib.pyplot as plt\n",
    "%matplotlib inline\n",
    "\n",
    "acc = history_dict['acc']\n",
    "val_acc = history_dict['val_acc']\n",
    "loss = history_dict['loss']\n",
    "val_loss = history_dict['val_loss']\n",
    "\n",
    "epochs = range(1, len(acc) + 1)\n",
    "\n",
    "# \"bo\" is for \"blue dot\"\n",
    "plt.plot(epochs, loss, 'bo', label='Training loss')\n",
    "# b is for \"solid blue line\"\n",
    "plt.plot(epochs, val_loss, 'b', label='Validation loss')\n",
    "plt.title('Training and validation loss')\n",
    "plt.xlabel('Epochs')\n",
    "plt.ylabel('Loss')\n",
    "plt.legend()\n",
    "\n",
    "plt.show()\n"
   ]
  },
  {
   "cell_type": "code",
   "execution_count": 11,
   "metadata": {},
   "outputs": [
    {
     "data": {
      "text/plain": [
       "<matplotlib.legend.Legend at 0x136f27978>"
      ]
     },
     "execution_count": 11,
     "metadata": {},
     "output_type": "execute_result"
    },
    {
     "data": {
      "image/png": "[encoded data removed]",
      "text/plain": [
       "<Figure size 432x288 with 1 Axes>"
      ]
     },
     "metadata": {
      "needs_background": "light"
     },
     "output_type": "display_data"
    }
   ],
   "source": [
    "plt.plot(epochs, acc, 'bo', label='Training acc')\n",
    "plt.plot(epochs, val_acc, 'b', label='Validation acc')\n",
    "plt.title('Training and validation accuracy')\n",
    "plt.xlabel('Epochs')\n",
    "plt.ylabel('Accuracy')\n",
    "plt.legend()"
   ]
  },
  {
   "cell_type": "code",
   "execution_count": null,
   "metadata": {},
   "outputs": [],
   "source": []
  }
 ],
 "metadata": {
  "kernelspec": {
   "display_name": "Python 3",
   "language": "python",
   "name": "python3"
  },
  "language_info": {
   "codemirror_mode": {
    "name": "ipython",
    "version": 3
   },
   "file_extension": ".py",
   "mimetype": "text/x-python",
   "name": "python",
   "nbconvert_exporter": "python",
   "pygments_lexer": "ipython3",
   "version": "3.6.7"
  }
 },
 "nbformat": 4,
 "nbformat_minor": 2
}
